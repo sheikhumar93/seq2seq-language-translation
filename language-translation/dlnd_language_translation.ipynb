{
 "cells": [
  {
   "cell_type": "markdown",
   "metadata": {
    "collapsed": true
   },
   "source": [
    "# Language Translation\n",
    "In this project, you’re going to take a peek into the realm of neural network machine translation.  You’ll be training a sequence to sequence model on a dataset of English and French sentences that can translate new sentences from English to French.\n",
    "## Get the Data\n",
    "Since translating the whole language of English to French will take lots of time to train, we have provided you with a small portion of the English corpus."
   ]
  },
  {
   "cell_type": "code",
   "execution_count": 2,
   "metadata": {
    "collapsed": true
   },
   "outputs": [],
   "source": [
    "\"\"\"\n",
    "DON'T MODIFY ANYTHING IN THIS CELL\n",
    "\"\"\"\n",
    "import helper\n",
    "import problem_unittests as tests\n",
    "\n",
    "source_path = 'data/small_vocab_en'\n",
    "target_path = 'data/small_vocab_fr'\n",
    "source_text = helper.load_data(source_path)\n",
    "target_text = helper.load_data(target_path)"
   ]
  },
  {
   "cell_type": "markdown",
   "metadata": {},
   "source": [
    "## Explore the Data\n",
    "Play around with view_sentence_range to view different parts of the data."
   ]
  },
  {
   "cell_type": "code",
   "execution_count": 2,
   "metadata": {},
   "outputs": [
    {
     "name": "stdout",
     "output_type": "stream",
     "text": [
      "Dataset Stats\n",
      "Roughly the number of unique words: 227\n",
      "Number of sentences: 137861\n",
      "Average number of words in a sentence: 13.225277634719028\n",
      "\n",
      "English sentences 0 to 10:\n",
      "new jersey is sometimes quiet during autumn , and it is snowy in april .\n",
      "the united states is usually chilly during july , and it is usually freezing in november .\n",
      "california is usually quiet during march , and it is usually hot in june .\n",
      "the united states is sometimes mild during june , and it is cold in september .\n",
      "your least liked fruit is the grape , but my least liked is the apple .\n",
      "his favorite fruit is the orange , but my favorite is the grape .\n",
      "paris is relaxing during december , but it is usually chilly in july .\n",
      "new jersey is busy during spring , and it is never hot in march .\n",
      "our least liked fruit is the lemon , but my least liked is the grape .\n",
      "the united states is sometimes busy during january , and it is sometimes warm in november .\n",
      "\n",
      "French sentences 0 to 10:\n",
      "new jersey est parfois calme pendant l' automne , et il est neigeux en avril .\n",
      "les états-unis est généralement froid en juillet , et il gèle habituellement en novembre .\n",
      "california est généralement calme en mars , et il est généralement chaud en juin .\n",
      "les états-unis est parfois légère en juin , et il fait froid en septembre .\n",
      "votre moins aimé fruit est le raisin , mais mon moins aimé est la pomme .\n",
      "son fruit préféré est l'orange , mais mon préféré est le raisin .\n",
      "paris est relaxant en décembre , mais il est généralement froid en juillet .\n",
      "new jersey est occupé au printemps , et il est jamais chaude en mars .\n",
      "notre fruit est moins aimé le citron , mais mon moins aimé est le raisin .\n",
      "les états-unis est parfois occupé en janvier , et il est parfois chaud en novembre .\n"
     ]
    }
   ],
   "source": [
    "view_sentence_range = (0, 10)\n",
    "\n",
    "\"\"\"\n",
    "DON'T MODIFY ANYTHING IN THIS CELL\n",
    "\"\"\"\n",
    "import numpy as np\n",
    "\n",
    "print('Dataset Stats')\n",
    "print('Roughly the number of unique words: {}'.format(len({word: None for word in source_text.split()})))\n",
    "\n",
    "sentences = source_text.split('\\n')\n",
    "word_counts = [len(sentence.split()) for sentence in sentences]\n",
    "print('Number of sentences: {}'.format(len(sentences)))\n",
    "print('Average number of words in a sentence: {}'.format(np.average(word_counts)))\n",
    "\n",
    "print()\n",
    "print('English sentences {} to {}:'.format(*view_sentence_range))\n",
    "print('\\n'.join(source_text.split('\\n')[view_sentence_range[0]:view_sentence_range[1]]))\n",
    "print()\n",
    "print('French sentences {} to {}:'.format(*view_sentence_range))\n",
    "print('\\n'.join(target_text.split('\\n')[view_sentence_range[0]:view_sentence_range[1]]))"
   ]
  },
  {
   "cell_type": "markdown",
   "metadata": {},
   "source": [
    "## Implement Preprocessing Function\n",
    "### Text to Word Ids\n",
    "As you did with other RNNs, you must turn the text into a number so the computer can understand it. In the function `text_to_ids()`, you'll turn `source_text` and `target_text` from words to ids.  However, you need to add the `<EOS>` word id at the end of each sentence from `target_text`.  This will help the neural network predict when the sentence should end.\n",
    "\n",
    "You can get the `<EOS>` word id by doing:\n",
    "```python\n",
    "target_vocab_to_int['<EOS>']\n",
    "```\n",
    "You can get other word ids using `source_vocab_to_int` and `target_vocab_to_int`."
   ]
  },
  {
   "cell_type": "code",
   "execution_count": 3,
   "metadata": {},
   "outputs": [
    {
     "name": "stdout",
     "output_type": "stream",
     "text": [
      "Tests Passed\n"
     ]
    }
   ],
   "source": [
    "def text_to_ids(source_text, target_text, source_vocab_to_int, target_vocab_to_int):\n",
    "    \"\"\"\n",
    "    Convert source and target text to proper word ids\n",
    "    :param source_text: String that contains all the source text.\n",
    "    :param target_text: String that contains all the target text.\n",
    "    :param source_vocab_to_int: Dictionary to go from the source words to an id\n",
    "    :param target_vocab_to_int: Dictionary to go from the target words to an id\n",
    "    :return: A tuple of lists (source_id_text, target_id_text)\n",
    "    \"\"\"\n",
    "    # TODO: Implement Function\n",
    "    source_id_text = [[source_vocab_to_int.get(word) for word in \n",
    "                      line.split()] for line in source_text.split('\\n')]\n",
    "    target_id_text = [[target_vocab_to_int.get(word) for word in \n",
    "                      line.split()] + [target_vocab_to_int['<EOS>']] for line in target_text.split('\\n')]\n",
    "    return source_id_text, target_id_text\n",
    "\n",
    "\"\"\"\n",
    "DON'T MODIFY ANYTHING IN THIS CELL THAT IS BELOW THIS LINE\n",
    "\"\"\"\n",
    "tests.test_text_to_ids(text_to_ids)"
   ]
  },
  {
   "cell_type": "markdown",
   "metadata": {},
   "source": [
    "### Preprocess all the data and save it\n",
    "Running the code cell below will preprocess all the data and save it to file."
   ]
  },
  {
   "cell_type": "code",
   "execution_count": 4,
   "metadata": {
    "collapsed": true
   },
   "outputs": [],
   "source": [
    "\"\"\"\n",
    "DON'T MODIFY ANYTHING IN THIS CELL\n",
    "\"\"\"\n",
    "helper.preprocess_and_save_data(source_path, target_path, text_to_ids)"
   ]
  },
  {
   "cell_type": "markdown",
   "metadata": {},
   "source": [
    "# Check Point\n",
    "This is your first checkpoint. If you ever decide to come back to this notebook or have to restart the notebook, you can start from here. The preprocessed data has been saved to disk."
   ]
  },
  {
   "cell_type": "code",
   "execution_count": 3,
   "metadata": {
    "collapsed": true
   },
   "outputs": [],
   "source": [
    "\"\"\"\n",
    "DON'T MODIFY ANYTHING IN THIS CELL\n",
    "\"\"\"\n",
    "import numpy as np\n",
    "import helper\n",
    "\n",
    "(source_int_text, target_int_text), (source_vocab_to_int, target_vocab_to_int), _ = helper.load_preprocess()"
   ]
  },
  {
   "cell_type": "markdown",
   "metadata": {},
   "source": [
    "### Check the Version of TensorFlow and Access to GPU\n",
    "This will check to make sure you have the correct version of TensorFlow and access to a GPU"
   ]
  },
  {
   "cell_type": "code",
   "execution_count": 4,
   "metadata": {},
   "outputs": [
    {
     "name": "stdout",
     "output_type": "stream",
     "text": [
      "TensorFlow Version: 1.0.1\n",
      "Default GPU Device: /gpu:0\n"
     ]
    }
   ],
   "source": [
    "\"\"\"\n",
    "DON'T MODIFY ANYTHING IN THIS CELL\n",
    "\"\"\"\n",
    "from distutils.version import LooseVersion\n",
    "import warnings\n",
    "import tensorflow as tf\n",
    "\n",
    "# Check TensorFlow Version\n",
    "assert LooseVersion(tf.__version__) >= LooseVersion('1.0'), 'Please use TensorFlow version 1.0 or newer'\n",
    "print('TensorFlow Version: {}'.format(tf.__version__))\n",
    "\n",
    "# Check for a GPU\n",
    "if not tf.test.gpu_device_name():\n",
    "    warnings.warn('No GPU found. Please use a GPU to train your neural network.')\n",
    "else:\n",
    "    print('Default GPU Device: {}'.format(tf.test.gpu_device_name()))"
   ]
  },
  {
   "cell_type": "markdown",
   "metadata": {},
   "source": [
    "## Build the Neural Network\n",
    "You'll build the components necessary to build a Sequence-to-Sequence model by implementing the following functions below:\n",
    "- `model_inputs`\n",
    "- `process_decoding_input`\n",
    "- `encoding_layer`\n",
    "- `decoding_layer_train`\n",
    "- `decoding_layer_infer`\n",
    "- `decoding_layer`\n",
    "- `seq2seq_model`\n",
    "\n",
    "### Input\n",
    "Implement the `model_inputs()` function to create TF Placeholders for the Neural Network. It should create the following placeholders:\n",
    "\n",
    "- Input text placeholder named \"input\" using the TF Placeholder name parameter with rank 2.\n",
    "- Targets placeholder with rank 2.\n",
    "- Learning rate placeholder with rank 0.\n",
    "- Keep probability placeholder named \"keep_prob\" using the TF Placeholder name parameter with rank 0.\n",
    "\n",
    "Return the placeholders in the following the tuple (Input, Targets, Learing Rate, Keep Probability)"
   ]
  },
  {
   "cell_type": "code",
   "execution_count": 5,
   "metadata": {},
   "outputs": [
    {
     "name": "stdout",
     "output_type": "stream",
     "text": [
      "Tests Passed\n"
     ]
    }
   ],
   "source": [
    "def model_inputs():\n",
    "    \"\"\"\n",
    "    Create TF Placeholders for input, targets, and learning rate.\n",
    "    :return: Tuple (input, targets, learning rate, keep probability)\n",
    "    \"\"\"\n",
    "    # TODO: Implement Function\n",
    "    input_ = tf.placeholder(tf.int32, shape = [None, None], name = 'input')\n",
    "    targets = tf.placeholder(tf.int32, shape = [None, None])\n",
    "    learning_rate = tf.placeholder(tf.float32)\n",
    "    keep_prob = tf.placeholder(tf.float32, name = \"keep_prob\")\n",
    "    return input_, targets, learning_rate, keep_prob\n",
    "\n",
    "\"\"\"\n",
    "DON'T MODIFY ANYTHING IN THIS CELL THAT IS BELOW THIS LINE\n",
    "\"\"\"\n",
    "tests.test_model_inputs(model_inputs)"
   ]
  },
  {
   "cell_type": "markdown",
   "metadata": {},
   "source": [
    "### Process Decoding Input\n",
    "Implement `process_decoding_input` using TensorFlow to remove the last word id from each batch in `target_data` and concat the GO ID to the begining of each batch."
   ]
  },
  {
   "cell_type": "code",
   "execution_count": 6,
   "metadata": {},
   "outputs": [
    {
     "name": "stdout",
     "output_type": "stream",
     "text": [
      "Tests Passed\n"
     ]
    }
   ],
   "source": [
    "def process_decoding_input(target_data, target_vocab_to_int, batch_size):\n",
    "    \"\"\"\n",
    "    Preprocess target data for dencoding\n",
    "    :param target_data: Target Placehoder\n",
    "    :param target_vocab_to_int: Dictionary to go from the target words to an id\n",
    "    :param batch_size: Batch Size\n",
    "    :return: Preprocessed target data\n",
    "    \"\"\"\n",
    "    # TODO: Implement Function\n",
    "    ending = tf.strided_slice(target_data, begin=[0, 0], end=[batch_size, -1], strides=[1, 1])\n",
    "    dec_input = tf.concat(values=[tf.fill(dims=[batch_size, 1], value=target_vocab_to_int['<GO>']), ending], axis=1)\n",
    "    return dec_input\n",
    "\n",
    "\"\"\"\n",
    "DON'T MODIFY ANYTHING IN THIS CELL THAT IS BELOW THIS LINE\n",
    "\"\"\"\n",
    "tests.test_process_decoding_input(process_decoding_input)"
   ]
  },
  {
   "cell_type": "markdown",
   "metadata": {},
   "source": [
    "### Encoding\n",
    "Implement `encoding_layer()` to create a Encoder RNN layer using [`tf.nn.dynamic_rnn()`](https://www.tensorflow.org/api_docs/python/tf/nn/dynamic_rnn)."
   ]
  },
  {
   "cell_type": "code",
   "execution_count": 7,
   "metadata": {},
   "outputs": [
    {
     "name": "stdout",
     "output_type": "stream",
     "text": [
      "Tests Passed\n"
     ]
    }
   ],
   "source": [
    "source_vocab_size = len(source_vocab_to_int)\n",
    "\n",
    "def encoding_layer(rnn_inputs, rnn_size, num_layers, keep_prob):\n",
    "    \"\"\"\n",
    "    Create encoding layer\n",
    "    :param rnn_inputs: Inputs for the RNN\n",
    "    :param rnn_size: RNN Size\n",
    "    :param num_layers: Number of layers\n",
    "    :param keep_prob: Dropout keep probability\n",
    "    :return: RNN state\n",
    "    \"\"\"\n",
    "    # TODO: Implement Function\n",
    "    lstm = tf.contrib.rnn.BasicLSTMCell(rnn_size)\n",
    "    drop = tf.contrib.rnn.DropoutWrapper(lstm, output_keep_prob = keep_prob)\n",
    "    enc_cell = tf.contrib.rnn.MultiRNNCell([drop] * num_layers)\n",
    "    _, rnn_state = tf.nn.dynamic_rnn(enc_cell, rnn_inputs, dtype = tf.float32)\n",
    "    return rnn_state\n",
    "\n",
    "\"\"\"\n",
    "DON'T MODIFY ANYTHING IN THIS CELL THAT IS BELOW THIS LINE\n",
    "\"\"\"\n",
    "tests.test_encoding_layer(encoding_layer)"
   ]
  },
  {
   "cell_type": "markdown",
   "metadata": {},
   "source": [
    "### Decoding - Training\n",
    "Create training logits using [`tf.contrib.seq2seq.simple_decoder_fn_train()`](https://www.tensorflow.org/api_docs/python/tf/contrib/seq2seq/simple_decoder_fn_train) and [`tf.contrib.seq2seq.dynamic_rnn_decoder()`](https://www.tensorflow.org/api_docs/python/tf/contrib/seq2seq/dynamic_rnn_decoder).  Apply the `output_fn` to the [`tf.contrib.seq2seq.dynamic_rnn_decoder()`](https://www.tensorflow.org/api_docs/python/tf/contrib/seq2seq/dynamic_rnn_decoder) outputs."
   ]
  },
  {
   "cell_type": "code",
   "execution_count": 8,
   "metadata": {},
   "outputs": [
    {
     "name": "stdout",
     "output_type": "stream",
     "text": [
      "Tests Passed\n"
     ]
    }
   ],
   "source": [
    "def decoding_layer_train(encoder_state, dec_cell, dec_embed_input, sequence_length, decoding_scope,\n",
    "                         output_fn, keep_prob):\n",
    "    \"\"\"\n",
    "    Create a decoding layer for training\n",
    "    :param encoder_state: Encoder State\n",
    "    :param dec_cell: Decoder RNN Cell\n",
    "    :param dec_embed_input: Decoder embedded input\n",
    "    :param sequence_length: Sequence Length\n",
    "    :param decoding_scope: TenorFlow Variable Scope for decoding\n",
    "    :param output_fn: Function to apply the output layer\n",
    "    :param keep_prob: Dropout keep probability\n",
    "    :return: Train Logits\n",
    "    \"\"\"\n",
    "    # TODO: Implement Function\n",
    "    dynamic_fn_train = tf.contrib.seq2seq.simple_decoder_fn_train(encoder_state)\n",
    "    outputs_train, _, _ = tf.contrib.seq2seq.dynamic_rnn_decoder(dec_cell, dynamic_fn_train, dec_embed_input, sequence_length, scope = decoding_scope)\n",
    "    train_logits_without_dropout = output_fn(outputs_train)\n",
    "    train_logits = tf.nn.dropout(train_logits_without_dropout, keep_prob)\n",
    "    return train_logits\n",
    "\n",
    "\n",
    "\"\"\"\n",
    "DON'T MODIFY ANYTHING IN THIS CELL THAT IS BELOW THIS LINE\n",
    "\"\"\"\n",
    "tests.test_decoding_layer_train(decoding_layer_train)"
   ]
  },
  {
   "cell_type": "markdown",
   "metadata": {},
   "source": [
    "### Decoding - Inference\n",
    "Create inference logits using [`tf.contrib.seq2seq.simple_decoder_fn_inference()`](https://www.tensorflow.org/api_docs/python/tf/contrib/seq2seq/simple_decoder_fn_inference) and [`tf.contrib.seq2seq.dynamic_rnn_decoder()`](https://www.tensorflow.org/api_docs/python/tf/contrib/seq2seq/dynamic_rnn_decoder). "
   ]
  },
  {
   "cell_type": "code",
   "execution_count": 9,
   "metadata": {},
   "outputs": [
    {
     "name": "stdout",
     "output_type": "stream",
     "text": [
      "Tests Passed\n"
     ]
    }
   ],
   "source": [
    "def decoding_layer_infer(encoder_state, dec_cell, dec_embeddings, start_of_sequence_id, end_of_sequence_id,\n",
    "                         maximum_length, vocab_size, decoding_scope, output_fn, keep_prob):\n",
    "    \"\"\"\n",
    "    Create a decoding layer for inference\n",
    "    :param encoder_state: Encoder state\n",
    "    :param dec_cell: Decoder RNN Cell\n",
    "    :param dec_embeddings: Decoder embeddings\n",
    "    :param start_of_sequence_id: GO ID\n",
    "    :param end_of_sequence_id: EOS Id\n",
    "    :param maximum_length: Maximum length of \n",
    "    :param vocab_size: Size of vocabulary\n",
    "    :param decoding_scope: TensorFlow Variable Scope for decoding\n",
    "    :param output_fn: Function to apply the output layer\n",
    "    :param keep_prob: Dropout keep probability\n",
    "    :return: Inference Logits\n",
    "    \"\"\"\n",
    "    # TODO: Implement Function\n",
    "    infer_decoder_fn = tf.contrib.seq2seq.simple_decoder_fn_inference(output_fn, encoder_state, dec_embeddings, start_of_sequence_id, end_of_sequence_id, maximum_length, vocab_size)\n",
    "    inference_logits_without_dropout, _, _ = tf.contrib.seq2seq.dynamic_rnn_decoder(dec_cell, infer_decoder_fn, scope = decoding_scope)\n",
    "    inference_logits = tf.nn.dropout(inference_logits_without_dropout, keep_prob)\n",
    "    return inference_logits\n",
    "\n",
    "\n",
    "\"\"\"\n",
    "DON'T MODIFY ANYTHING IN THIS CELL THAT IS BELOW THIS LINE\n",
    "\"\"\"\n",
    "tests.test_decoding_layer_infer(decoding_layer_infer)"
   ]
  },
  {
   "cell_type": "markdown",
   "metadata": {},
   "source": [
    "### Build the Decoding Layer\n",
    "Implement `decoding_layer()` to create a Decoder RNN layer.\n",
    "\n",
    "- Create RNN cell for decoding using `rnn_size` and `num_layers`.\n",
    "- Create the output fuction using [`lambda`](https://docs.python.org/3/tutorial/controlflow.html#lambda-expressions) to transform it's input, logits, to class logits.\n",
    "- Use the your `decoding_layer_train(encoder_state, dec_cell, dec_embed_input, sequence_length, decoding_scope, output_fn, keep_prob)` function to get the training logits.\n",
    "- Use your `decoding_layer_infer(encoder_state, dec_cell, dec_embeddings, start_of_sequence_id, end_of_sequence_id, maximum_length, vocab_size, decoding_scope, output_fn, keep_prob)` function to get the inference logits.\n",
    "\n",
    "Note: You'll need to use [tf.variable_scope](https://www.tensorflow.org/api_docs/python/tf/variable_scope) to share variables between training and inference."
   ]
  },
  {
   "cell_type": "code",
   "execution_count": 10,
   "metadata": {},
   "outputs": [
    {
     "name": "stdout",
     "output_type": "stream",
     "text": [
      "Tests Passed\n"
     ]
    }
   ],
   "source": [
    "def decoding_layer(dec_embed_input, dec_embeddings, encoder_state, vocab_size, sequence_length, rnn_size,\n",
    "                   num_layers, target_vocab_to_int, keep_prob):\n",
    "    \"\"\"\n",
    "    Create decoding layer\n",
    "    :param dec_embed_input: Decoder embedded input\n",
    "    :param dec_embeddings: Decoder embeddings\n",
    "    :param encoder_state: The encoded state\n",
    "    :param vocab_size: Size of vocabulary\n",
    "    :param sequence_length: Sequence Length\n",
    "    :param rnn_size: RNN Size\n",
    "    :param num_layers: Number of layers\n",
    "    :param target_vocab_to_int: Dictionary to go from the target words to an id\n",
    "    :param keep_prob: Dropout keep probability\n",
    "    :return: Tuple of (Training Logits, Inference Logits)\n",
    "    \"\"\"\n",
    "    # TODO: Implement Function\n",
    "    dec_cell = tf.contrib.rnn.MultiRNNCell([tf.contrib.rnn.BasicLSTMCell(rnn_size)] * num_layers)\n",
    "    with tf.variable_scope('decoding') as decoding_scope:\n",
    "        output_fn = lambda x: tf.contrib.layers.fully_connected(x, vocab_size, None, scope = decoding_scope)\n",
    "        train_logits = decoding_layer_train(encoder_state, dec_cell, dec_embed_input, sequence_length, decoding_scope,\n",
    "                                            output_fn, keep_prob)\n",
    "    with tf.variable_scope('decoding', reuse=True) as decoding_scope:   \n",
    "        infer_logits = decoding_layer_infer(encoder_state, dec_cell, dec_embeddings, target_vocab_to_int['<GO>'],\n",
    "                                            target_vocab_to_int['<EOS>'], sequence_length, vocab_size, decoding_scope, \n",
    "                                            output_fn, keep_prob)\n",
    "    return train_logits, infer_logits\n",
    "\n",
    "\n",
    "\"\"\"\n",
    "DON'T MODIFY ANYTHING IN THIS CELL THAT IS BELOW THIS LINE\n",
    "\"\"\"\n",
    "tests.test_decoding_layer(decoding_layer)"
   ]
  },
  {
   "cell_type": "markdown",
   "metadata": {},
   "source": [
    "### Build the Neural Network\n",
    "Apply the functions you implemented above to:\n",
    "\n",
    "- Apply embedding to the input data for the encoder.\n",
    "- Encode the input using your `encoding_layer(rnn_inputs, rnn_size, num_layers, keep_prob)`.\n",
    "- Process target data using your `process_decoding_input(target_data, target_vocab_to_int, batch_size)` function.\n",
    "- Apply embedding to the target data for the decoder.\n",
    "- Decode the encoded input using your `decoding_layer(dec_embed_input, dec_embeddings, encoder_state, vocab_size, sequence_length, rnn_size, num_layers, target_vocab_to_int, keep_prob)`."
   ]
  },
  {
   "cell_type": "code",
   "execution_count": 11,
   "metadata": {},
   "outputs": [
    {
     "name": "stdout",
     "output_type": "stream",
     "text": [
      "Tests Passed\n"
     ]
    }
   ],
   "source": [
    "def seq2seq_model(input_data, target_data, keep_prob, batch_size, sequence_length, source_vocab_size, target_vocab_size,\n",
    "                  enc_embedding_size, dec_embedding_size, rnn_size, num_layers, target_vocab_to_int):\n",
    "    \"\"\"\n",
    "    Build the Sequence-to-Sequence part of the neural network\n",
    "    :param input_data: Input placeholder\n",
    "    :param target_data: Target placeholder\n",
    "    :param keep_prob: Dropout keep probability placeholder\n",
    "    :param batch_size: Batch Size\n",
    "    :param sequence_length: Sequence Length\n",
    "    :param source_vocab_size: Source vocabulary size\n",
    "    :param target_vocab_size: Target vocabulary size\n",
    "    :param enc_embedding_size: Decoder embedding size\n",
    "    :param dec_embedding_size: Encoder embedding size\n",
    "    :param rnn_size: RNN Size\n",
    "    :param num_layers: Number of layers\n",
    "    :param target_vocab_to_int: Dictionary to go from the target words to an id\n",
    "    :return: Tuple of (Training Logits, Inference Logits)\n",
    "    \"\"\"\n",
    "    # TODO: Implement Function\n",
    "    rnn_state = encoding_layer(tf.contrib.layers.embed_sequence(input_data, source_vocab_size, enc_embedding_size),\n",
    "                                  rnn_size, num_layers, keep_prob)\n",
    "    \n",
    "    dec_embeddings = tf.Variable(tf.random_uniform([target_vocab_size, dec_embedding_size]))\n",
    "    process_target_decode_input = process_decoding_input(target_data, target_vocab_to_int, batch_size)\n",
    "    dec_embed_input = tf.nn.embedding_lookup(dec_embeddings, process_target_decode_input)\n",
    "    train_logits, infer_logits = decoding_layer(dec_embed_input, dec_embeddings, rnn_state, target_vocab_size, \n",
    "                                               sequence_length, rnn_size, num_layers, target_vocab_to_int, keep_prob)\n",
    "    return train_logits, infer_logits\n",
    "\n",
    "\n",
    "\"\"\"\n",
    "DON'T MODIFY ANYTHING IN THIS CELL THAT IS BELOW THIS LINE\n",
    "\"\"\"\n",
    "tests.test_seq2seq_model(seq2seq_model)"
   ]
  },
  {
   "cell_type": "markdown",
   "metadata": {},
   "source": [
    "## Neural Network Training\n",
    "### Hyperparameters\n",
    "Tune the following parameters:\n",
    "\n",
    "- Set `epochs` to the number of epochs.\n",
    "- Set `batch_size` to the batch size.\n",
    "- Set `rnn_size` to the size of the RNNs.\n",
    "- Set `num_layers` to the number of layers.\n",
    "- Set `encoding_embedding_size` to the size of the embedding for the encoder.\n",
    "- Set `decoding_embedding_size` to the size of the embedding for the decoder.\n",
    "- Set `learning_rate` to the learning rate.\n",
    "- Set `keep_probability` to the Dropout keep probability"
   ]
  },
  {
   "cell_type": "code",
   "execution_count": 18,
   "metadata": {
    "collapsed": true
   },
   "outputs": [],
   "source": [
    "# Number of Epochs\n",
    "epochs = 20\n",
    "# Batch Size\n",
    "batch_size = 64\n",
    "# RNN Size\n",
    "rnn_size = 50\n",
    "# Number of Layers\n",
    "num_layers = 2\n",
    "# Embedding Size\n",
    "encoding_embedding_size = 14\n",
    "decoding_embedding_size = 14\n",
    "# Learning Rate\n",
    "learning_rate = 0.001\n",
    "# Dropout Keep Probability\n",
    "keep_probability = 0.6"
   ]
  },
  {
   "cell_type": "markdown",
   "metadata": {},
   "source": [
    "### Build the Graph\n",
    "Build the graph using the neural network you implemented."
   ]
  },
  {
   "cell_type": "code",
   "execution_count": 19,
   "metadata": {
    "collapsed": true
   },
   "outputs": [],
   "source": [
    "\"\"\"\n",
    "DON'T MODIFY ANYTHING IN THIS CELL\n",
    "\"\"\"\n",
    "save_path = 'checkpoints/dev'\n",
    "(source_int_text, target_int_text), (source_vocab_to_int, target_vocab_to_int), _ = helper.load_preprocess()\n",
    "max_target_sentence_length = max([len(sentence) for sentence in source_int_text])\n",
    "\n",
    "train_graph = tf.Graph()\n",
    "with train_graph.as_default():\n",
    "    input_data, targets, lr, keep_prob = model_inputs()\n",
    "    sequence_length = tf.placeholder_with_default(max_target_sentence_length, None, name='sequence_length')\n",
    "    input_shape = tf.shape(input_data)\n",
    "    \n",
    "    train_logits, inference_logits = seq2seq_model(\n",
    "        tf.reverse(input_data, [-1]), targets, keep_prob, batch_size, sequence_length, len(source_vocab_to_int), len(target_vocab_to_int),\n",
    "        encoding_embedding_size, decoding_embedding_size, rnn_size, num_layers, target_vocab_to_int)\n",
    "\n",
    "    tf.identity(inference_logits, 'logits')\n",
    "    with tf.name_scope(\"optimization\"):\n",
    "        # Loss function\n",
    "        cost = tf.contrib.seq2seq.sequence_loss(\n",
    "            train_logits,\n",
    "            targets,\n",
    "            tf.ones([input_shape[0], sequence_length]))\n",
    "\n",
    "        # Optimizer\n",
    "        optimizer = tf.train.AdamOptimizer(lr)\n",
    "\n",
    "        # Gradient Clipping\n",
    "        gradients = optimizer.compute_gradients(cost)\n",
    "        capped_gradients = [(tf.clip_by_value(grad, -1., 1.), var) for grad, var in gradients if grad is not None]\n",
    "        train_op = optimizer.apply_gradients(capped_gradients)"
   ]
  },
  {
   "cell_type": "markdown",
   "metadata": {},
   "source": [
    "### Train\n",
    "Train the neural network on the preprocessed data. If you have a hard time getting a good loss, check the forms to see if anyone is having the same problem."
   ]
  },
  {
   "cell_type": "code",
   "execution_count": 20,
   "metadata": {
    "scrolled": true
   },
   "outputs": [
    {
     "name": "stdout",
     "output_type": "stream",
     "text": [
      "Epoch   0 Batch    0/2154 - Train Accuracy:  0.096, Validation Accuracy:  0.175, Loss:  5.897\n",
      "Epoch   0 Batch    1/2154 - Train Accuracy:  0.137, Validation Accuracy:  0.175, Loss:  5.877\n",
      "Epoch   0 Batch    2/2154 - Train Accuracy:  0.109, Validation Accuracy:  0.178, Loss:  5.859\n",
      "Epoch   0 Batch    3/2154 - Train Accuracy:  0.185, Validation Accuracy:  0.284, Loss:  5.848\n",
      "Epoch   0 Batch    4/2154 - Train Accuracy:  0.217, Validation Accuracy:  0.284, Loss:  5.829\n",
      "Epoch   0 Batch    5/2154 - Train Accuracy:  0.211, Validation Accuracy:  0.284, Loss:  5.809\n",
      "Epoch   0 Batch    6/2154 - Train Accuracy:  0.202, Validation Accuracy:  0.284, Loss:  5.795\n",
      "Epoch   0 Batch    7/2154 - Train Accuracy:  0.252, Validation Accuracy:  0.284, Loss:  5.750\n",
      "Epoch   0 Batch    8/2154 - Train Accuracy:  0.185, Validation Accuracy:  0.284, Loss:  5.743\n",
      "Epoch   0 Batch    9/2154 - Train Accuracy:  0.237, Validation Accuracy:  0.284, Loss:  5.690\n",
      "Epoch   0 Batch   10/2154 - Train Accuracy:  0.212, Validation Accuracy:  0.284, Loss:  5.649\n",
      "Epoch   0 Batch   11/2154 - Train Accuracy:  0.196, Validation Accuracy:  0.284, Loss:  5.629\n",
      "Epoch   0 Batch   12/2154 - Train Accuracy:  0.245, Validation Accuracy:  0.284, Loss:  5.532\n",
      "Epoch   0 Batch   13/2154 - Train Accuracy:  0.215, Validation Accuracy:  0.284, Loss:  5.491\n",
      "Epoch   0 Batch   14/2154 - Train Accuracy:  0.230, Validation Accuracy:  0.284, Loss:  5.415\n",
      "Epoch   0 Batch   15/2154 - Train Accuracy:  0.229, Validation Accuracy:  0.284, Loss:  5.379\n",
      "Epoch   0 Batch   16/2154 - Train Accuracy:  0.223, Validation Accuracy:  0.284, Loss:  5.342\n",
      "Epoch   0 Batch   17/2154 - Train Accuracy:  0.223, Validation Accuracy:  0.288, Loss:  5.280\n",
      "Epoch   0 Batch   18/2154 - Train Accuracy:  0.252, Validation Accuracy:  0.297, Loss:  5.214\n",
      "Epoch   0 Batch   19/2154 - Train Accuracy:  0.235, Validation Accuracy:  0.300, Loss:  5.158\n",
      "Epoch   0 Batch   20/2154 - Train Accuracy:  0.255, Validation Accuracy:  0.300, Loss:  5.047\n",
      "Epoch   0 Batch   21/2154 - Train Accuracy:  0.220, Validation Accuracy:  0.300, Loss:  5.079\n",
      "Epoch   0 Batch   22/2154 - Train Accuracy:  0.200, Validation Accuracy:  0.300, Loss:  5.050\n",
      "Epoch   0 Batch   23/2154 - Train Accuracy:  0.250, Validation Accuracy:  0.300, Loss:  4.843\n",
      "Epoch   0 Batch   24/2154 - Train Accuracy:  0.256, Validation Accuracy:  0.300, Loss:  4.847\n",
      "Epoch   0 Batch   25/2154 - Train Accuracy:  0.249, Validation Accuracy:  0.300, Loss:  4.873\n",
      "Epoch   0 Batch   26/2154 - Train Accuracy:  0.235, Validation Accuracy:  0.300, Loss:  4.792\n",
      "Epoch   0 Batch   27/2154 - Train Accuracy:  0.233, Validation Accuracy:  0.308, Loss:  4.818\n",
      "Epoch   0 Batch   28/2154 - Train Accuracy:  0.296, Validation Accuracy:  0.316, Loss:  4.691\n",
      "Epoch   0 Batch   29/2154 - Train Accuracy:  0.299, Validation Accuracy:  0.316, Loss:  4.631\n",
      "Epoch   0 Batch   30/2154 - Train Accuracy:  0.245, Validation Accuracy:  0.316, Loss:  4.707\n",
      "Epoch   0 Batch   31/2154 - Train Accuracy:  0.256, Validation Accuracy:  0.317, Loss:  4.592\n",
      "Epoch   0 Batch   32/2154 - Train Accuracy:  0.245, Validation Accuracy:  0.317, Loss:  4.724\n",
      "Epoch   0 Batch   33/2154 - Train Accuracy:  0.308, Validation Accuracy:  0.317, Loss:  4.535\n",
      "Epoch   0 Batch   34/2154 - Train Accuracy:  0.229, Validation Accuracy:  0.317, Loss:  4.646\n",
      "Epoch   0 Batch   35/2154 - Train Accuracy:  0.290, Validation Accuracy:  0.317, Loss:  4.525\n",
      "Epoch   0 Batch   36/2154 - Train Accuracy:  0.284, Validation Accuracy:  0.318, Loss:  4.455\n",
      "Epoch   0 Batch   37/2154 - Train Accuracy:  0.242, Validation Accuracy:  0.318, Loss:  4.505\n",
      "Epoch   0 Batch   38/2154 - Train Accuracy:  0.260, Validation Accuracy:  0.318, Loss:  4.603\n",
      "Epoch   0 Batch   39/2154 - Train Accuracy:  0.312, Validation Accuracy:  0.318, Loss:  4.468\n",
      "Epoch   0 Batch   40/2154 - Train Accuracy:  0.225, Validation Accuracy:  0.318, Loss:  4.648\n",
      "Epoch   0 Batch   41/2154 - Train Accuracy:  0.238, Validation Accuracy:  0.319, Loss:  4.546\n",
      "Epoch   0 Batch   42/2154 - Train Accuracy:  0.265, Validation Accuracy:  0.319, Loss:  4.425\n",
      "Epoch   0 Batch   43/2154 - Train Accuracy:  0.233, Validation Accuracy:  0.319, Loss:  4.511\n",
      "Epoch   0 Batch   44/2154 - Train Accuracy:  0.238, Validation Accuracy:  0.319, Loss:  4.400\n",
      "Epoch   0 Batch   45/2154 - Train Accuracy:  0.239, Validation Accuracy:  0.319, Loss:  4.515\n",
      "Epoch   0 Batch   46/2154 - Train Accuracy:  0.254, Validation Accuracy:  0.319, Loss:  4.464\n",
      "Epoch   0 Batch   47/2154 - Train Accuracy:  0.285, Validation Accuracy:  0.319, Loss:  4.418\n",
      "Epoch   0 Batch   48/2154 - Train Accuracy:  0.221, Validation Accuracy:  0.319, Loss:  4.572\n",
      "Epoch   0 Batch   49/2154 - Train Accuracy:  0.280, Validation Accuracy:  0.319, Loss:  4.278\n",
      "Epoch   0 Batch   50/2154 - Train Accuracy:  0.229, Validation Accuracy:  0.319, Loss:  4.494\n",
      "Epoch   0 Batch   51/2154 - Train Accuracy:  0.277, Validation Accuracy:  0.319, Loss:  4.477\n",
      "Epoch   0 Batch   52/2154 - Train Accuracy:  0.274, Validation Accuracy:  0.319, Loss:  4.414\n",
      "Epoch   0 Batch   53/2154 - Train Accuracy:  0.257, Validation Accuracy:  0.319, Loss:  4.412\n",
      "Epoch   0 Batch   54/2154 - Train Accuracy:  0.221, Validation Accuracy:  0.319, Loss:  4.437\n",
      "Epoch   0 Batch   55/2154 - Train Accuracy:  0.267, Validation Accuracy:  0.319, Loss:  4.386\n",
      "Epoch   0 Batch   56/2154 - Train Accuracy:  0.331, Validation Accuracy:  0.319, Loss:  4.267\n",
      "Epoch   0 Batch   57/2154 - Train Accuracy:  0.302, Validation Accuracy:  0.319, Loss:  4.345\n",
      "Epoch   0 Batch   58/2154 - Train Accuracy:  0.234, Validation Accuracy:  0.319, Loss:  4.413\n",
      "Epoch   0 Batch   59/2154 - Train Accuracy:  0.262, Validation Accuracy:  0.319, Loss:  4.315\n",
      "Epoch   0 Batch   60/2154 - Train Accuracy:  0.265, Validation Accuracy:  0.319, Loss:  4.384\n",
      "Epoch   0 Batch   61/2154 - Train Accuracy:  0.280, Validation Accuracy:  0.319, Loss:  4.337\n",
      "Epoch   0 Batch   62/2154 - Train Accuracy:  0.255, Validation Accuracy:  0.319, Loss:  4.362\n",
      "Epoch   0 Batch   63/2154 - Train Accuracy:  0.235, Validation Accuracy:  0.319, Loss:  4.461\n",
      "Epoch   0 Batch   64/2154 - Train Accuracy:  0.275, Validation Accuracy:  0.319, Loss:  4.358\n",
      "Epoch   0 Batch   65/2154 - Train Accuracy:  0.323, Validation Accuracy:  0.319, Loss:  4.327\n",
      "Epoch   0 Batch   66/2154 - Train Accuracy:  0.338, Validation Accuracy:  0.319, Loss:  4.257\n",
      "Epoch   0 Batch   67/2154 - Train Accuracy:  0.259, Validation Accuracy:  0.319, Loss:  4.325\n",
      "Epoch   0 Batch   68/2154 - Train Accuracy:  0.315, Validation Accuracy:  0.319, Loss:  4.187\n",
      "Epoch   0 Batch   69/2154 - Train Accuracy:  0.256, Validation Accuracy:  0.319, Loss:  4.321\n",
      "Epoch   0 Batch   70/2154 - Train Accuracy:  0.234, Validation Accuracy:  0.319, Loss:  4.359\n",
      "Epoch   0 Batch   71/2154 - Train Accuracy:  0.245, Validation Accuracy:  0.319, Loss:  4.400\n",
      "Epoch   0 Batch   72/2154 - Train Accuracy:  0.262, Validation Accuracy:  0.319, Loss:  4.396\n",
      "Epoch   0 Batch   73/2154 - Train Accuracy:  0.287, Validation Accuracy:  0.319, Loss:  4.269\n",
      "Epoch   0 Batch   74/2154 - Train Accuracy:  0.308, Validation Accuracy:  0.319, Loss:  4.237\n",
      "Epoch   0 Batch   75/2154 - Train Accuracy:  0.220, Validation Accuracy:  0.319, Loss:  4.398\n",
      "Epoch   0 Batch   76/2154 - Train Accuracy:  0.277, Validation Accuracy:  0.319, Loss:  4.198\n",
      "Epoch   0 Batch   77/2154 - Train Accuracy:  0.238, Validation Accuracy:  0.319, Loss:  4.428\n",
      "Epoch   0 Batch   78/2154 - Train Accuracy:  0.238, Validation Accuracy:  0.319, Loss:  4.416\n",
      "Epoch   0 Batch   79/2154 - Train Accuracy:  0.290, Validation Accuracy:  0.319, Loss:  4.277\n",
      "Epoch   0 Batch   80/2154 - Train Accuracy:  0.274, Validation Accuracy:  0.327, Loss:  4.237\n",
      "Epoch   0 Batch   81/2154 - Train Accuracy:  0.263, Validation Accuracy:  0.343, Loss:  4.374\n",
      "Epoch   0 Batch   82/2154 - Train Accuracy:  0.291, Validation Accuracy:  0.347, Loss:  4.307\n",
      "Epoch   0 Batch   83/2154 - Train Accuracy:  0.243, Validation Accuracy:  0.349, Loss:  4.418\n",
      "Epoch   0 Batch   84/2154 - Train Accuracy:  0.339, Validation Accuracy:  0.352, Loss:  4.160\n",
      "Epoch   0 Batch   85/2154 - Train Accuracy:  0.305, Validation Accuracy:  0.352, Loss:  4.250\n",
      "Epoch   0 Batch   86/2154 - Train Accuracy:  0.268, Validation Accuracy:  0.352, Loss:  4.332\n",
      "Epoch   0 Batch   87/2154 - Train Accuracy:  0.268, Validation Accuracy:  0.352, Loss:  4.282\n",
      "Epoch   0 Batch   88/2154 - Train Accuracy:  0.263, Validation Accuracy:  0.352, Loss:  4.264\n"
     ]
    },
    {
     "name": "stdout",
     "output_type": "stream",
     "text": [
      "Epoch   0 Batch   89/2154 - Train Accuracy:  0.263, Validation Accuracy:  0.352, Loss:  4.297\n",
      "Epoch   0 Batch   90/2154 - Train Accuracy:  0.261, Validation Accuracy:  0.352, Loss:  4.364\n",
      "Epoch   0 Batch   91/2154 - Train Accuracy:  0.305, Validation Accuracy:  0.353, Loss:  4.237\n",
      "Epoch   0 Batch   92/2154 - Train Accuracy:  0.315, Validation Accuracy:  0.356, Loss:  4.195\n",
      "Epoch   0 Batch   93/2154 - Train Accuracy:  0.296, Validation Accuracy:  0.352, Loss:  4.238\n",
      "Epoch   0 Batch   94/2154 - Train Accuracy:  0.280, Validation Accuracy:  0.348, Loss:  4.265\n",
      "Epoch   0 Batch   95/2154 - Train Accuracy:  0.309, Validation Accuracy:  0.349, Loss:  4.222\n",
      "Epoch   0 Batch   96/2154 - Train Accuracy:  0.284, Validation Accuracy:  0.353, Loss:  4.263\n",
      "Epoch   0 Batch   97/2154 - Train Accuracy:  0.282, Validation Accuracy:  0.353, Loss:  4.222\n",
      "Epoch   0 Batch   98/2154 - Train Accuracy:  0.334, Validation Accuracy:  0.356, Loss:  4.201\n",
      "Epoch   0 Batch   99/2154 - Train Accuracy:  0.337, Validation Accuracy:  0.353, Loss:  4.166\n",
      "Epoch   0 Batch  100/2154 - Train Accuracy:  0.332, Validation Accuracy:  0.353, Loss:  4.175\n",
      "Epoch   0 Batch  101/2154 - Train Accuracy:  0.290, Validation Accuracy:  0.352, Loss:  4.204\n",
      "Epoch   0 Batch  102/2154 - Train Accuracy:  0.307, Validation Accuracy:  0.352, Loss:  4.119\n",
      "Epoch   0 Batch  103/2154 - Train Accuracy:  0.323, Validation Accuracy:  0.349, Loss:  4.230\n",
      "Epoch   0 Batch  104/2154 - Train Accuracy:  0.296, Validation Accuracy:  0.350, Loss:  4.140\n",
      "Epoch   0 Batch  105/2154 - Train Accuracy:  0.306, Validation Accuracy:  0.355, Loss:  4.192\n",
      "Epoch   0 Batch  106/2154 - Train Accuracy:  0.274, Validation Accuracy:  0.356, Loss:  4.269\n",
      "Epoch   0 Batch  107/2154 - Train Accuracy:  0.313, Validation Accuracy:  0.356, Loss:  4.109\n",
      "Epoch   0 Batch  108/2154 - Train Accuracy:  0.280, Validation Accuracy:  0.353, Loss:  4.288\n",
      "Epoch   0 Batch  109/2154 - Train Accuracy:  0.314, Validation Accuracy:  0.353, Loss:  4.238\n",
      "Epoch   0 Batch  110/2154 - Train Accuracy:  0.297, Validation Accuracy:  0.352, Loss:  4.341\n",
      "Epoch   0 Batch  111/2154 - Train Accuracy:  0.328, Validation Accuracy:  0.352, Loss:  4.135\n",
      "Epoch   0 Batch  112/2154 - Train Accuracy:  0.327, Validation Accuracy:  0.353, Loss:  4.111\n",
      "Epoch   0 Batch  113/2154 - Train Accuracy:  0.327, Validation Accuracy:  0.353, Loss:  4.142\n",
      "Epoch   0 Batch  114/2154 - Train Accuracy:  0.298, Validation Accuracy:  0.356, Loss:  4.188\n",
      "Epoch   0 Batch  115/2154 - Train Accuracy:  0.376, Validation Accuracy:  0.359, Loss:  4.002\n",
      "Epoch   0 Batch  116/2154 - Train Accuracy:  0.327, Validation Accuracy:  0.359, Loss:  4.127\n",
      "Epoch   0 Batch  117/2154 - Train Accuracy:  0.285, Validation Accuracy:  0.358, Loss:  4.202\n",
      "Epoch   0 Batch  118/2154 - Train Accuracy:  0.319, Validation Accuracy:  0.356, Loss:  4.180\n",
      "Epoch   0 Batch  119/2154 - Train Accuracy:  0.282, Validation Accuracy:  0.353, Loss:  4.229\n",
      "Epoch   0 Batch  120/2154 - Train Accuracy:  0.267, Validation Accuracy:  0.353, Loss:  4.168\n",
      "Epoch   0 Batch  121/2154 - Train Accuracy:  0.342, Validation Accuracy:  0.352, Loss:  4.016\n",
      "Epoch   0 Batch  122/2154 - Train Accuracy:  0.297, Validation Accuracy:  0.352, Loss:  4.282\n",
      "Epoch   0 Batch  123/2154 - Train Accuracy:  0.300, Validation Accuracy:  0.356, Loss:  4.174\n",
      "Epoch   0 Batch  124/2154 - Train Accuracy:  0.334, Validation Accuracy:  0.355, Loss:  4.043\n",
      "Epoch   0 Batch  125/2154 - Train Accuracy:  0.272, Validation Accuracy:  0.355, Loss:  4.204\n",
      "Epoch   0 Batch  126/2154 - Train Accuracy:  0.289, Validation Accuracy:  0.357, Loss:  4.232\n",
      "Epoch   0 Batch  127/2154 - Train Accuracy:  0.346, Validation Accuracy:  0.357, Loss:  4.126\n",
      "Epoch   0 Batch  128/2154 - Train Accuracy:  0.289, Validation Accuracy:  0.359, Loss:  4.298\n",
      "Epoch   0 Batch  129/2154 - Train Accuracy:  0.285, Validation Accuracy:  0.359, Loss:  4.200\n",
      "Epoch   0 Batch  130/2154 - Train Accuracy:  0.311, Validation Accuracy:  0.359, Loss:  4.119\n",
      "Epoch   0 Batch  131/2154 - Train Accuracy:  0.274, Validation Accuracy:  0.360, Loss:  4.257\n",
      "Epoch   0 Batch  132/2154 - Train Accuracy:  0.288, Validation Accuracy:  0.362, Loss:  4.293\n",
      "Epoch   0 Batch  133/2154 - Train Accuracy:  0.289, Validation Accuracy:  0.363, Loss:  4.148\n",
      "Epoch   0 Batch  134/2154 - Train Accuracy:  0.311, Validation Accuracy:  0.362, Loss:  4.090\n",
      "Epoch   0 Batch  135/2154 - Train Accuracy:  0.279, Validation Accuracy:  0.366, Loss:  4.306\n",
      "Epoch   0 Batch  136/2154 - Train Accuracy:  0.347, Validation Accuracy:  0.367, Loss:  3.997\n",
      "Epoch   0 Batch  137/2154 - Train Accuracy:  0.315, Validation Accuracy:  0.366, Loss:  4.166\n",
      "Epoch   0 Batch  138/2154 - Train Accuracy:  0.302, Validation Accuracy:  0.362, Loss:  4.093\n",
      "Epoch   0 Batch  139/2154 - Train Accuracy:  0.309, Validation Accuracy:  0.366, Loss:  4.116\n",
      "Epoch   0 Batch  140/2154 - Train Accuracy:  0.346, Validation Accuracy:  0.369, Loss:  4.068\n",
      "Epoch   0 Batch  141/2154 - Train Accuracy:  0.281, Validation Accuracy:  0.371, Loss:  4.209\n",
      "Epoch   0 Batch  142/2154 - Train Accuracy:  0.289, Validation Accuracy:  0.371, Loss:  4.175\n",
      "Epoch   0 Batch  143/2154 - Train Accuracy:  0.294, Validation Accuracy:  0.371, Loss:  4.180\n",
      "Epoch   0 Batch  144/2154 - Train Accuracy:  0.314, Validation Accuracy:  0.372, Loss:  4.127\n",
      "Epoch   0 Batch  145/2154 - Train Accuracy:  0.319, Validation Accuracy:  0.376, Loss:  4.163\n",
      "Epoch   0 Batch  146/2154 - Train Accuracy:  0.309, Validation Accuracy:  0.378, Loss:  4.158\n",
      "Epoch   0 Batch  147/2154 - Train Accuracy:  0.327, Validation Accuracy:  0.379, Loss:  4.046\n",
      "Epoch   0 Batch  148/2154 - Train Accuracy:  0.345, Validation Accuracy:  0.379, Loss:  4.113\n",
      "Epoch   0 Batch  149/2154 - Train Accuracy:  0.338, Validation Accuracy:  0.380, Loss:  4.024\n",
      "Epoch   0 Batch  150/2154 - Train Accuracy:  0.344, Validation Accuracy:  0.375, Loss:  4.035\n",
      "Epoch   0 Batch  151/2154 - Train Accuracy:  0.299, Validation Accuracy:  0.371, Loss:  4.051\n",
      "Epoch   0 Batch  152/2154 - Train Accuracy:  0.344, Validation Accuracy:  0.371, Loss:  4.071\n",
      "Epoch   0 Batch  153/2154 - Train Accuracy:  0.301, Validation Accuracy:  0.374, Loss:  4.052\n",
      "Epoch   0 Batch  154/2154 - Train Accuracy:  0.327, Validation Accuracy:  0.376, Loss:  4.012\n",
      "Epoch   0 Batch  155/2154 - Train Accuracy:  0.308, Validation Accuracy:  0.378, Loss:  4.121\n",
      "Epoch   0 Batch  156/2154 - Train Accuracy:  0.304, Validation Accuracy:  0.381, Loss:  4.102\n",
      "Epoch   0 Batch  157/2154 - Train Accuracy:  0.328, Validation Accuracy:  0.378, Loss:  4.055\n",
      "Epoch   0 Batch  158/2154 - Train Accuracy:  0.279, Validation Accuracy:  0.381, Loss:  4.177\n",
      "Epoch   0 Batch  159/2154 - Train Accuracy:  0.315, Validation Accuracy:  0.386, Loss:  4.139\n",
      "Epoch   0 Batch  160/2154 - Train Accuracy:  0.353, Validation Accuracy:  0.391, Loss:  4.135\n",
      "Epoch   0 Batch  161/2154 - Train Accuracy:  0.365, Validation Accuracy:  0.387, Loss:  4.054\n",
      "Epoch   0 Batch  162/2154 - Train Accuracy:  0.298, Validation Accuracy:  0.392, Loss:  4.218\n",
      "Epoch   0 Batch  163/2154 - Train Accuracy:  0.366, Validation Accuracy:  0.391, Loss:  4.011\n",
      "Epoch   0 Batch  164/2154 - Train Accuracy:  0.300, Validation Accuracy:  0.395, Loss:  4.156\n",
      "Epoch   0 Batch  165/2154 - Train Accuracy:  0.410, Validation Accuracy:  0.390, Loss:  3.893\n",
      "Epoch   0 Batch  166/2154 - Train Accuracy:  0.349, Validation Accuracy:  0.384, Loss:  3.989\n",
      "Epoch   0 Batch  167/2154 - Train Accuracy:  0.303, Validation Accuracy:  0.381, Loss:  4.172\n",
      "Epoch   0 Batch  168/2154 - Train Accuracy:  0.329, Validation Accuracy:  0.384, Loss:  4.092\n",
      "Epoch   0 Batch  169/2154 - Train Accuracy:  0.314, Validation Accuracy:  0.384, Loss:  4.165\n",
      "Epoch   0 Batch  170/2154 - Train Accuracy:  0.345, Validation Accuracy:  0.385, Loss:  4.076\n",
      "Epoch   0 Batch  171/2154 - Train Accuracy:  0.355, Validation Accuracy:  0.386, Loss:  4.006\n",
      "Epoch   0 Batch  172/2154 - Train Accuracy:  0.326, Validation Accuracy:  0.386, Loss:  4.097\n",
      "Epoch   0 Batch  173/2154 - Train Accuracy:  0.364, Validation Accuracy:  0.387, Loss:  4.105\n",
      "Epoch   0 Batch  174/2154 - Train Accuracy:  0.340, Validation Accuracy:  0.387, Loss:  4.028\n",
      "Epoch   0 Batch  175/2154 - Train Accuracy:  0.379, Validation Accuracy:  0.384, Loss:  4.048\n",
      "Epoch   0 Batch  176/2154 - Train Accuracy:  0.358, Validation Accuracy:  0.384, Loss:  4.056\n"
     ]
    },
    {
     "name": "stdout",
     "output_type": "stream",
     "text": [
      "Epoch   0 Batch  177/2154 - Train Accuracy:  0.362, Validation Accuracy:  0.385, Loss:  4.084\n",
      "Epoch   0 Batch  178/2154 - Train Accuracy:  0.345, Validation Accuracy:  0.387, Loss:  4.090\n",
      "Epoch   0 Batch  179/2154 - Train Accuracy:  0.370, Validation Accuracy:  0.391, Loss:  4.046\n",
      "Epoch   0 Batch  180/2154 - Train Accuracy:  0.338, Validation Accuracy:  0.392, Loss:  4.037\n",
      "Epoch   0 Batch  181/2154 - Train Accuracy:  0.365, Validation Accuracy:  0.398, Loss:  3.976\n",
      "Epoch   0 Batch  182/2154 - Train Accuracy:  0.345, Validation Accuracy:  0.393, Loss:  4.010\n",
      "Epoch   0 Batch  183/2154 - Train Accuracy:  0.397, Validation Accuracy:  0.397, Loss:  3.940\n",
      "Epoch   0 Batch  184/2154 - Train Accuracy:  0.356, Validation Accuracy:  0.393, Loss:  4.029\n",
      "Epoch   0 Batch  185/2154 - Train Accuracy:  0.317, Validation Accuracy:  0.393, Loss:  4.111\n",
      "Epoch   0 Batch  186/2154 - Train Accuracy:  0.371, Validation Accuracy:  0.391, Loss:  3.920\n",
      "Epoch   0 Batch  187/2154 - Train Accuracy:  0.370, Validation Accuracy:  0.392, Loss:  4.004\n",
      "Epoch   0 Batch  188/2154 - Train Accuracy:  0.352, Validation Accuracy:  0.394, Loss:  3.982\n",
      "Epoch   0 Batch  189/2154 - Train Accuracy:  0.391, Validation Accuracy:  0.394, Loss:  4.082\n",
      "Epoch   0 Batch  190/2154 - Train Accuracy:  0.365, Validation Accuracy:  0.396, Loss:  4.046\n",
      "Epoch   0 Batch  191/2154 - Train Accuracy:  0.382, Validation Accuracy:  0.396, Loss:  3.998\n",
      "Epoch   0 Batch  192/2154 - Train Accuracy:  0.383, Validation Accuracy:  0.403, Loss:  3.982\n",
      "Epoch   0 Batch  193/2154 - Train Accuracy:  0.375, Validation Accuracy:  0.397, Loss:  3.882\n",
      "Epoch   0 Batch  194/2154 - Train Accuracy:  0.384, Validation Accuracy:  0.396, Loss:  3.932\n",
      "Epoch   0 Batch  195/2154 - Train Accuracy:  0.357, Validation Accuracy:  0.402, Loss:  4.024\n",
      "Epoch   0 Batch  196/2154 - Train Accuracy:  0.389, Validation Accuracy:  0.404, Loss:  3.980\n",
      "Epoch   0 Batch  197/2154 - Train Accuracy:  0.427, Validation Accuracy:  0.399, Loss:  3.762\n",
      "Epoch   0 Batch  198/2154 - Train Accuracy:  0.354, Validation Accuracy:  0.401, Loss:  4.118\n",
      "Epoch   0 Batch  199/2154 - Train Accuracy:  0.360, Validation Accuracy:  0.396, Loss:  4.023\n",
      "Epoch   0 Batch  200/2154 - Train Accuracy:  0.345, Validation Accuracy:  0.396, Loss:  4.128\n",
      "Epoch   0 Batch  201/2154 - Train Accuracy:  0.356, Validation Accuracy:  0.395, Loss:  4.051\n",
      "Epoch   0 Batch  202/2154 - Train Accuracy:  0.357, Validation Accuracy:  0.400, Loss:  3.975\n",
      "Epoch   0 Batch  203/2154 - Train Accuracy:  0.336, Validation Accuracy:  0.401, Loss:  4.067\n",
      "Epoch   0 Batch  204/2154 - Train Accuracy:  0.346, Validation Accuracy:  0.400, Loss:  3.948\n",
      "Epoch   0 Batch  205/2154 - Train Accuracy:  0.378, Validation Accuracy:  0.407, Loss:  3.916\n",
      "Epoch   0 Batch  206/2154 - Train Accuracy:  0.401, Validation Accuracy:  0.408, Loss:  3.957\n",
      "Epoch   0 Batch  207/2154 - Train Accuracy:  0.341, Validation Accuracy:  0.406, Loss:  4.098\n",
      "Epoch   0 Batch  208/2154 - Train Accuracy:  0.318, Validation Accuracy:  0.404, Loss:  4.100\n",
      "Epoch   0 Batch  209/2154 - Train Accuracy:  0.326, Validation Accuracy:  0.399, Loss:  4.129\n",
      "Epoch   0 Batch  210/2154 - Train Accuracy:  0.308, Validation Accuracy:  0.396, Loss:  4.065\n"
     ]
    },
    {
     "ename": "KeyboardInterrupt",
     "evalue": "",
     "output_type": "error",
     "traceback": [
      "\u001b[0;31m---------------------------------------------------------------------------\u001b[0m",
      "\u001b[0;31mKeyboardInterrupt\u001b[0m                         Traceback (most recent call last)",
      "\u001b[0;32m<ipython-input-20-29c4deffcdd2>\u001b[0m in \u001b[0;36m<module>\u001b[0;34m()\u001b[0m\n\u001b[1;32m     42\u001b[0m                  \u001b[0mlr\u001b[0m\u001b[0;34m:\u001b[0m \u001b[0mlearning_rate\u001b[0m\u001b[0;34m,\u001b[0m\u001b[0;34m\u001b[0m\u001b[0m\n\u001b[1;32m     43\u001b[0m                  \u001b[0msequence_length\u001b[0m\u001b[0;34m:\u001b[0m \u001b[0mtarget_batch\u001b[0m\u001b[0;34m.\u001b[0m\u001b[0mshape\u001b[0m\u001b[0;34m[\u001b[0m\u001b[0;36m1\u001b[0m\u001b[0;34m]\u001b[0m\u001b[0;34m,\u001b[0m\u001b[0;34m\u001b[0m\u001b[0m\n\u001b[0;32m---> 44\u001b[0;31m                  keep_prob: keep_probability})\n\u001b[0m\u001b[1;32m     45\u001b[0m \u001b[0;34m\u001b[0m\u001b[0m\n\u001b[1;32m     46\u001b[0m             batch_train_logits = sess.run(\n",
      "\u001b[0;32m/Volumes/MacHFS/Applications/anaconda/envs/tensorflow-gpu/lib/python3.6/site-packages/tensorflow/python/client/session.py\u001b[0m in \u001b[0;36mrun\u001b[0;34m(self, fetches, feed_dict, options, run_metadata)\u001b[0m\n\u001b[1;32m    765\u001b[0m     \u001b[0;32mtry\u001b[0m\u001b[0;34m:\u001b[0m\u001b[0;34m\u001b[0m\u001b[0m\n\u001b[1;32m    766\u001b[0m       result = self._run(None, fetches, feed_dict, options_ptr,\n\u001b[0;32m--> 767\u001b[0;31m                          run_metadata_ptr)\n\u001b[0m\u001b[1;32m    768\u001b[0m       \u001b[0;32mif\u001b[0m \u001b[0mrun_metadata\u001b[0m\u001b[0;34m:\u001b[0m\u001b[0;34m\u001b[0m\u001b[0m\n\u001b[1;32m    769\u001b[0m         \u001b[0mproto_data\u001b[0m \u001b[0;34m=\u001b[0m \u001b[0mtf_session\u001b[0m\u001b[0;34m.\u001b[0m\u001b[0mTF_GetBuffer\u001b[0m\u001b[0;34m(\u001b[0m\u001b[0mrun_metadata_ptr\u001b[0m\u001b[0;34m)\u001b[0m\u001b[0;34m\u001b[0m\u001b[0m\n",
      "\u001b[0;32m/Volumes/MacHFS/Applications/anaconda/envs/tensorflow-gpu/lib/python3.6/site-packages/tensorflow/python/client/session.py\u001b[0m in \u001b[0;36m_run\u001b[0;34m(self, handle, fetches, feed_dict, options, run_metadata)\u001b[0m\n\u001b[1;32m    963\u001b[0m     \u001b[0;32mif\u001b[0m \u001b[0mfinal_fetches\u001b[0m \u001b[0;32mor\u001b[0m \u001b[0mfinal_targets\u001b[0m\u001b[0;34m:\u001b[0m\u001b[0;34m\u001b[0m\u001b[0m\n\u001b[1;32m    964\u001b[0m       results = self._do_run(handle, final_targets, final_fetches,\n\u001b[0;32m--> 965\u001b[0;31m                              feed_dict_string, options, run_metadata)\n\u001b[0m\u001b[1;32m    966\u001b[0m     \u001b[0;32melse\u001b[0m\u001b[0;34m:\u001b[0m\u001b[0;34m\u001b[0m\u001b[0m\n\u001b[1;32m    967\u001b[0m       \u001b[0mresults\u001b[0m \u001b[0;34m=\u001b[0m \u001b[0;34m[\u001b[0m\u001b[0;34m]\u001b[0m\u001b[0;34m\u001b[0m\u001b[0m\n",
      "\u001b[0;32m/Volumes/MacHFS/Applications/anaconda/envs/tensorflow-gpu/lib/python3.6/site-packages/tensorflow/python/client/session.py\u001b[0m in \u001b[0;36m_do_run\u001b[0;34m(self, handle, target_list, fetch_list, feed_dict, options, run_metadata)\u001b[0m\n\u001b[1;32m   1013\u001b[0m     \u001b[0;32mif\u001b[0m \u001b[0mhandle\u001b[0m \u001b[0;32mis\u001b[0m \u001b[0;32mNone\u001b[0m\u001b[0;34m:\u001b[0m\u001b[0;34m\u001b[0m\u001b[0m\n\u001b[1;32m   1014\u001b[0m       return self._do_call(_run_fn, self._session, feed_dict, fetch_list,\n\u001b[0;32m-> 1015\u001b[0;31m                            target_list, options, run_metadata)\n\u001b[0m\u001b[1;32m   1016\u001b[0m     \u001b[0;32melse\u001b[0m\u001b[0;34m:\u001b[0m\u001b[0;34m\u001b[0m\u001b[0m\n\u001b[1;32m   1017\u001b[0m       return self._do_call(_prun_fn, self._session, handle, feed_dict,\n",
      "\u001b[0;32m/Volumes/MacHFS/Applications/anaconda/envs/tensorflow-gpu/lib/python3.6/site-packages/tensorflow/python/client/session.py\u001b[0m in \u001b[0;36m_do_call\u001b[0;34m(self, fn, *args)\u001b[0m\n\u001b[1;32m   1020\u001b[0m   \u001b[0;32mdef\u001b[0m \u001b[0m_do_call\u001b[0m\u001b[0;34m(\u001b[0m\u001b[0mself\u001b[0m\u001b[0;34m,\u001b[0m \u001b[0mfn\u001b[0m\u001b[0;34m,\u001b[0m \u001b[0;34m*\u001b[0m\u001b[0margs\u001b[0m\u001b[0;34m)\u001b[0m\u001b[0;34m:\u001b[0m\u001b[0;34m\u001b[0m\u001b[0m\n\u001b[1;32m   1021\u001b[0m     \u001b[0;32mtry\u001b[0m\u001b[0;34m:\u001b[0m\u001b[0;34m\u001b[0m\u001b[0m\n\u001b[0;32m-> 1022\u001b[0;31m       \u001b[0;32mreturn\u001b[0m \u001b[0mfn\u001b[0m\u001b[0;34m(\u001b[0m\u001b[0;34m*\u001b[0m\u001b[0margs\u001b[0m\u001b[0;34m)\u001b[0m\u001b[0;34m\u001b[0m\u001b[0m\n\u001b[0m\u001b[1;32m   1023\u001b[0m     \u001b[0;32mexcept\u001b[0m \u001b[0merrors\u001b[0m\u001b[0;34m.\u001b[0m\u001b[0mOpError\u001b[0m \u001b[0;32mas\u001b[0m \u001b[0me\u001b[0m\u001b[0;34m:\u001b[0m\u001b[0;34m\u001b[0m\u001b[0m\n\u001b[1;32m   1024\u001b[0m       \u001b[0mmessage\u001b[0m \u001b[0;34m=\u001b[0m \u001b[0mcompat\u001b[0m\u001b[0;34m.\u001b[0m\u001b[0mas_text\u001b[0m\u001b[0;34m(\u001b[0m\u001b[0me\u001b[0m\u001b[0;34m.\u001b[0m\u001b[0mmessage\u001b[0m\u001b[0;34m)\u001b[0m\u001b[0;34m\u001b[0m\u001b[0m\n",
      "\u001b[0;32m/Volumes/MacHFS/Applications/anaconda/envs/tensorflow-gpu/lib/python3.6/site-packages/tensorflow/python/client/session.py\u001b[0m in \u001b[0;36m_run_fn\u001b[0;34m(session, feed_dict, fetch_list, target_list, options, run_metadata)\u001b[0m\n\u001b[1;32m   1002\u001b[0m         return tf_session.TF_Run(session, options,\n\u001b[1;32m   1003\u001b[0m                                  \u001b[0mfeed_dict\u001b[0m\u001b[0;34m,\u001b[0m \u001b[0mfetch_list\u001b[0m\u001b[0;34m,\u001b[0m \u001b[0mtarget_list\u001b[0m\u001b[0;34m,\u001b[0m\u001b[0;34m\u001b[0m\u001b[0m\n\u001b[0;32m-> 1004\u001b[0;31m                                  status, run_metadata)\n\u001b[0m\u001b[1;32m   1005\u001b[0m \u001b[0;34m\u001b[0m\u001b[0m\n\u001b[1;32m   1006\u001b[0m     \u001b[0;32mdef\u001b[0m \u001b[0m_prun_fn\u001b[0m\u001b[0;34m(\u001b[0m\u001b[0msession\u001b[0m\u001b[0;34m,\u001b[0m \u001b[0mhandle\u001b[0m\u001b[0;34m,\u001b[0m \u001b[0mfeed_dict\u001b[0m\u001b[0;34m,\u001b[0m \u001b[0mfetch_list\u001b[0m\u001b[0;34m)\u001b[0m\u001b[0;34m:\u001b[0m\u001b[0;34m\u001b[0m\u001b[0m\n",
      "\u001b[0;31mKeyboardInterrupt\u001b[0m: "
     ]
    }
   ],
   "source": [
    "\"\"\"\n",
    "DON'T MODIFY ANYTHING IN THIS CELL\n",
    "\"\"\"\n",
    "import time\n",
    "\n",
    "def get_accuracy(target, logits):\n",
    "    \"\"\"\n",
    "    Calculate accuracy\n",
    "    \"\"\"\n",
    "    max_seq = max(target.shape[1], logits.shape[1])\n",
    "    if max_seq - target.shape[1]:\n",
    "        target = np.pad(\n",
    "            target_batch,\n",
    "            [(0,0),(0,max_seq - target_batch.shape[1]), (0,0)],\n",
    "            'constant')\n",
    "    if max_seq - batch_train_logits.shape[1]:\n",
    "        logits = np.pad(\n",
    "            logits,\n",
    "            [(0,0),(0,max_seq - logits.shape[1]), (0,0)],\n",
    "            'constant')\n",
    "\n",
    "    return np.mean(np.equal(target, np.argmax(logits, 2)))\n",
    "\n",
    "train_source = source_int_text[batch_size:]\n",
    "train_target = target_int_text[batch_size:]\n",
    "\n",
    "valid_source = helper.pad_sentence_batch(source_int_text[:batch_size])\n",
    "valid_target = helper.pad_sentence_batch(target_int_text[:batch_size])\n",
    "\n",
    "with tf.Session(graph=train_graph) as sess:\n",
    "    sess.run(tf.global_variables_initializer())\n",
    "\n",
    "    for epoch_i in range(epochs):\n",
    "        for batch_i, (source_batch, target_batch) in enumerate(\n",
    "                helper.batch_data(train_source, train_target, batch_size)):\n",
    "            start_time = time.time()\n",
    "            \n",
    "            _, loss = sess.run(\n",
    "                [train_op, cost],\n",
    "                {input_data: source_batch,\n",
    "                 targets: target_batch,\n",
    "                 lr: learning_rate,\n",
    "                 sequence_length: target_batch.shape[1],\n",
    "                 keep_prob: keep_probability})\n",
    "            \n",
    "            batch_train_logits = sess.run(\n",
    "                inference_logits,\n",
    "                {input_data: source_batch, keep_prob: 1.0})\n",
    "            batch_valid_logits = sess.run(\n",
    "                inference_logits,\n",
    "                {input_data: valid_source, keep_prob: 1.0})\n",
    "                \n",
    "            train_acc = get_accuracy(target_batch, batch_train_logits)\n",
    "            valid_acc = get_accuracy(np.array(valid_target), batch_valid_logits)\n",
    "            end_time = time.time()\n",
    "            print('Epoch {:>3} Batch {:>4}/{} - Train Accuracy: {:>6.3f}, Validation Accuracy: {:>6.3f}, Loss: {:>6.3f}'\n",
    "                  .format(epoch_i, batch_i, len(source_int_text) // batch_size, train_acc, valid_acc, loss))\n",
    "\n",
    "    # Save Model\n",
    "    saver = tf.train.Saver()\n",
    "    saver.save(sess, save_path)\n",
    "    print('Model Trained and Saved')"
   ]
  },
  {
   "cell_type": "markdown",
   "metadata": {},
   "source": [
    "### Save Parameters\n",
    "Save the `batch_size` and `save_path` parameters for inference."
   ]
  },
  {
   "cell_type": "code",
   "execution_count": null,
   "metadata": {
    "collapsed": true
   },
   "outputs": [],
   "source": [
    "\"\"\"\n",
    "DON'T MODIFY ANYTHING IN THIS CELL\n",
    "\"\"\"\n",
    "# Save parameters for checkpoint\n",
    "helper.save_params(save_path)"
   ]
  },
  {
   "cell_type": "markdown",
   "metadata": {},
   "source": [
    "# Checkpoint"
   ]
  },
  {
   "cell_type": "code",
   "execution_count": null,
   "metadata": {
    "collapsed": true
   },
   "outputs": [],
   "source": [
    "\"\"\"\n",
    "DON'T MODIFY ANYTHING IN THIS CELL\n",
    "\"\"\"\n",
    "import tensorflow as tf\n",
    "import numpy as np\n",
    "import helper\n",
    "import problem_unittests as tests\n",
    "\n",
    "_, (source_vocab_to_int, target_vocab_to_int), (source_int_to_vocab, target_int_to_vocab) = helper.load_preprocess()\n",
    "load_path = helper.load_params()"
   ]
  },
  {
   "cell_type": "markdown",
   "metadata": {},
   "source": [
    "## Sentence to Sequence\n",
    "To feed a sentence into the model for translation, you first need to preprocess it.  Implement the function `sentence_to_seq()` to preprocess new sentences.\n",
    "\n",
    "- Convert the sentence to lowercase\n",
    "- Convert words into ids using `vocab_to_int`\n",
    " - Convert words not in the vocabulary, to the `<UNK>` word id."
   ]
  },
  {
   "cell_type": "code",
   "execution_count": null,
   "metadata": {
    "collapsed": true
   },
   "outputs": [],
   "source": [
    "def sentence_to_seq(sentence, vocab_to_int):\n",
    "    \"\"\"\n",
    "    Convert a sentence to a sequence of ids\n",
    "    :param sentence: String\n",
    "    :param vocab_to_int: Dictionary to go from the words to an id\n",
    "    :return: List of word ids\n",
    "    \"\"\"\n",
    "    # TODO: Implement Function\n",
    "    return None\n",
    "\n",
    "\n",
    "\"\"\"\n",
    "DON'T MODIFY ANYTHING IN THIS CELL THAT IS BELOW THIS LINE\n",
    "\"\"\"\n",
    "tests.test_sentence_to_seq(sentence_to_seq)"
   ]
  },
  {
   "cell_type": "markdown",
   "metadata": {},
   "source": [
    "## Translate\n",
    "This will translate `translate_sentence` from English to French."
   ]
  },
  {
   "cell_type": "code",
   "execution_count": null,
   "metadata": {
    "collapsed": true
   },
   "outputs": [],
   "source": [
    "translate_sentence = 'he saw a old yellow truck .'\n",
    "\n",
    "\n",
    "\"\"\"\n",
    "DON'T MODIFY ANYTHING IN THIS CELL\n",
    "\"\"\"\n",
    "translate_sentence = sentence_to_seq(translate_sentence, source_vocab_to_int)\n",
    "\n",
    "loaded_graph = tf.Graph()\n",
    "with tf.Session(graph=loaded_graph) as sess:\n",
    "    # Load saved model\n",
    "    loader = tf.train.import_meta_graph(load_path + '.meta')\n",
    "    loader.restore(sess, load_path)\n",
    "\n",
    "    input_data = loaded_graph.get_tensor_by_name('input:0')\n",
    "    logits = loaded_graph.get_tensor_by_name('logits:0')\n",
    "    keep_prob = loaded_graph.get_tensor_by_name('keep_prob:0')\n",
    "\n",
    "    translate_logits = sess.run(logits, {input_data: [translate_sentence], keep_prob: 1.0})[0]\n",
    "\n",
    "print('Input')\n",
    "print('  Word Ids:      {}'.format([i for i in translate_sentence]))\n",
    "print('  English Words: {}'.format([source_int_to_vocab[i] for i in translate_sentence]))\n",
    "\n",
    "print('\\nPrediction')\n",
    "print('  Word Ids:      {}'.format([i for i in np.argmax(translate_logits, 1)]))\n",
    "print('  French Words: {}'.format([target_int_to_vocab[i] for i in np.argmax(translate_logits, 1)]))"
   ]
  },
  {
   "cell_type": "markdown",
   "metadata": {},
   "source": [
    "## Imperfect Translation\n",
    "You might notice that some sentences translate better than others.  Since the dataset you're using only has a vocabulary of 227 English words of the thousands that you use, you're only going to see good results using these words.  For this project, you don't need a perfect translation. However, if you want to create a better translation model, you'll need better data.\n",
    "\n",
    "You can train on the [WMT10 French-English corpus](http://www.statmt.org/wmt10/training-giga-fren.tar).  This dataset has more vocabulary and richer in topics discussed.  However, this will take you days to train, so make sure you've a GPU and the neural network is performing well on dataset we provided.  Just make sure you play with the WMT10 corpus after you've submitted this project.\n",
    "## Submitting This Project\n",
    "When submitting this project, make sure to run all the cells before saving the notebook. Save the notebook file as \"dlnd_language_translation.ipynb\" and save it as a HTML file under \"File\" -> \"Download as\". Include the \"helper.py\" and \"problem_unittests.py\" files in your submission."
   ]
  }
 ],
 "metadata": {
  "kernelspec": {
   "display_name": "Python 3",
   "language": "python",
   "name": "python3"
  },
  "language_info": {
   "codemirror_mode": {
    "name": "ipython",
    "version": 3
   },
   "file_extension": ".py",
   "mimetype": "text/x-python",
   "name": "python",
   "nbconvert_exporter": "python",
   "pygments_lexer": "ipython3",
   "version": "3.6.1"
  }
 },
 "nbformat": 4,
 "nbformat_minor": 1
}
